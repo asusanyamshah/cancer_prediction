{
 "cells": [
  {
   "cell_type": "code",
   "execution_count": 21,
   "metadata": {},
   "outputs": [
    {
     "name": "stdout",
     "output_type": "stream",
     "text": [
      "98.14% is the accuracy\n",
      "[[115   4]\n",
      " [  0  96]]\n"
     ]
    },
    {
     "name": "stderr",
     "output_type": "stream",
     "text": [
      "/Library/Frameworks/Python.framework/Versions/3.10/lib/python3.10/site-packages/sklearn/preprocessing/_label.py:115: DataConversionWarning: A column-vector y was passed when a 1d array was expected. Please change the shape of y to (n_samples, ), for example using ravel().\n",
      "  y = column_or_1d(y, warn=True)\n"
     ]
    }
   ],
   "source": [
    "# Importing the Libraries\n",
    "\n",
    "# Pandas is for data manipulation\n",
    "import pandas as pd\n",
    "\n",
    "# Matplotlib is for Visualizing the data, accuracy of our model\n",
    "from matplotlib import pyplot as plt\n",
    "\n",
    "# To seperate the data into training data used to train models and testing data used to test models\n",
    "from sklearn.model_selection import train_test_split\n",
    "\n",
    "# Os for importing files\n",
    "import os\n",
    "\n",
    "# Label encoder is to encode categorical information in the dependent variable\n",
    "from sklearn.preprocessing import LabelEncoder\n",
    "\n",
    "# Random Over Samples for resampling the data to ensure balanced results\n",
    "from imblearn.over_sampling import RandomOverSampler\n",
    "\n",
    "# Confusion matriz and accuracy score to test the accuracy of our model\n",
    "from sklearn.metrics import confusion_matrix, accuracy_score\n",
    "\n",
    "# Joblib to save our model\n",
    "import joblib\n",
    "\n",
    "# The classifier which will be the model\n",
    "import xgboost as xgb\n",
    "\n",
    "# Importing the csv file\n",
    "path = os.path.join('Cancer_Data.csv')\n",
    "\n",
    "# Storing the copy of the csv in the form of a dataframe in the variable 'dataset'\n",
    "dataset = pd.read_csv(path)\n",
    "\n",
    "# Dropping the unnecessary columns\n",
    "dataset = dataset.drop('id', axis='columns')\n",
    "\n",
    "# Seperating the data into dependent variable and independent variable\n",
    "x = dataset.iloc[:, 1:31].values\n",
    "y = dataset.iloc[:, 0].values.reshape(-1, 1)\n",
    "\n",
    "# Making the Label encoder and encoding the dependent variable\n",
    "le = LabelEncoder()\n",
    "y = le.fit_transform(y)\n",
    "\n",
    "# Making a resampler\n",
    "ros = RandomOverSampler(random_state=0)\n",
    "\n",
    "# Resampling the data\n",
    "x_resampled, y_resampled = ros.fit_resample(x, y)\n",
    "\n",
    "# Splitting the data into training data and testing data\n",
    "x_train, x_test, y_train, y_test = train_test_split(x_resampled, y_resampled, test_size=0.3, random_state=0)\n",
    "\n",
    "# Making the classifier\n",
    "xgboost_classifier = xgb.XGBClassifier()\n",
    "\n",
    "# Training our model\n",
    "xgboost_classifier.fit(x_train, y_train)\n",
    "\n",
    "# Getting the predictions of the testing data\n",
    "y_pred = xgboost_classifier.predict(x_test)\n",
    "\n",
    "# Making a confusion matrix to see the accuracy of the model by comparing the testing data and the predicted data\n",
    "cm = confusion_matrix(y_test, y_pred)\n",
    "\n",
    "# Printing the accuracy of the model\n",
    "print(f'{(accuracy_score(y_test, y_pred) * 100):.2f}% is the accuracy')\n",
    "\n",
    "# Printing the confusion matrix\n",
    "print(cm)\n"
   ]
  },
  {
   "cell_type": "code",
   "execution_count": 22,
   "metadata": {},
   "outputs": [
    {
     "data": {
      "text/plain": [
       "['classifier.pk1']"
      ]
     },
     "execution_count": 22,
     "metadata": {},
     "output_type": "execute_result"
    }
   ],
   "source": [
    "# Storing the model for future use\n",
    "joblib.dump(xgboost_classifier, 'classifier.pk1')"
   ]
  },
  {
   "cell_type": "code",
   "execution_count": 23,
   "metadata": {},
   "outputs": [
    {
     "data": {
      "image/png": "[encoded data removed]",
      "text/plain": [
       "<Figure size 640x480 with 2 Axes>"
      ]
     },
     "metadata": {},
     "output_type": "display_data"
    }
   ],
   "source": [
    "# Visualizing the confusion matrix\n",
    "plt.imshow(cm, cmap = 'Blues')\n",
    "plt.colorbar()\n",
    "plt.show()"
   ]
  }
 ],
 "metadata": {
  "kernelspec": {
   "display_name": "Python 3",
   "language": "python",
   "name": "python3"
  },
  "language_info": {
   "codemirror_mode": {
    "name": "ipython",
    "version": 3
   },
   "file_extension": ".py",
   "mimetype": "text/x-python",
   "name": "python",
   "nbconvert_exporter": "python",
   "pygments_lexer": "ipython3",
   "version": "3.10.7"
  },
  "orig_nbformat": 4
 },
 "nbformat": 4,
 "nbformat_minor": 2
}
