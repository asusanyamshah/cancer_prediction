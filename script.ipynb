{
 "cells": [
  {
   "cell_type": "code",
   "execution_count": 4,
   "metadata": {},
   "outputs": [
    {
     "name": "stdout",
     "output_type": "stream",
     "text": [
      "Hello, Welcome to the Cancer Classifier\n",
      "Please answer the following questions: \n",
      "The cancer is malignant\n"
     ]
    }
   ],
   "source": [
    "import joblib\n",
    "\n",
    "classifier = joblib.load('classifier.pk1')\n",
    "\n",
    "print(f\"Hello, Welcome to the Cancer Classifier\\nPlease answer the following questions: \")\n",
    "\n",
    "radius_mean = float(input(f\"What is the mean radius: \"))\n",
    "texture_mean = float(input(f\"What is the mean texture: \"))\n",
    "perimeter_mean = float(input(f\"What is the mean perimeter: \"))\n",
    "area_mean = float(input(f\"What is the mean area: \"))\n",
    "smoothness_mean = float(input(f\"What is the mean smoothness: \"))\n",
    "compactness_mean = float(input(f\"What is the mean compactness: \"))\n",
    "concavity_mean = float(input(f\"What is the mean concavity: \"))\n",
    "concavepoints_mean = float(input(f\"What is the mean concave points: \"))\n",
    "symmetry_mean = float(input(f\"What is the mean symmetry: \"))\n",
    "fractal_dimension_mean = float(input(f\"What is the mean fractal dimension: \"))\n",
    "radius_se = float(input(\"What is the radius se: \"))\n",
    "texture_se = float(input(f\"What is the texture se: \"))\n",
    "perimeter_se = float(input(f\"What is the perimeter se: \"))\n",
    "area_se = float(input(f\"What is the area se: \"))\n",
    "smoothness_se = float(input(f\"What is the smoothness se: \"))\n",
    "compactness_se = float(input(f\"What is the compactness se: \"))\n",
    "concavity_se = float(input(f\"What is the concavity se: \"))\n",
    "concavepoints_se = float(input(f\"What is the concave points se: \"))\n",
    "symmetry_se = float(input(f\"What is the symmetry se: \"))\n",
    "fractal_dimension_se = float(input(f\"What is the fractal dimension se: \"))\n",
    "radius_worst = float(input(f\"What is the radius worst: \"))\n",
    "texture_worst = float(input(f\"What is the texture worst: \"))\n",
    "perimeter_worst = float(input(f\"What is the perimeter worst: \"))\n",
    "area_worst = float(input(f\"What is the area worst: \"))\n",
    "smoothness_worst = float(input(f\"What is the smoothness worst: \"))\n",
    "compactness_worst = float(input(f\"What is the compactness worst: \"))\n",
    "concavity_worst = float(input(f\"What is the concavity worst: \"))\n",
    "concavepoints_worst = float(input(f\"What is the concave points worst: \"))\n",
    "symmetry_worst = float(input(f\"What is the symmetry worst: \"))\n",
    "fractal_dimension_worst = float(input(f\"What is the fractal dimension worst: \"))\n",
    "\n",
    "prediction = classifier.predict([[radius_mean, texture_mean, perimeter_mean, area_mean, smoothness_mean, compactness_mean, concavity_mean, concavepoints_mean, symmetry_mean,\n",
    "                   fractal_dimension_mean, radius_se, texture_se, perimeter_se, area_se, smoothness_se, compactness_se, concavity_se, concavepoints_se, symmetry_se,\n",
    "                   fractal_dimension_se, radius_worst, texture_worst, perimeter_worst, area_worst, smoothness_worst, compactness_worst, concavity_worst, concavepoints_worst,\n",
    "                   symmetry_worst, fractal_dimension_worst]])\n",
    "print(f\"Thank you for answering\\n\\n\")\n",
    "if prediction[0] == 1:\n",
    "    print(f\"The cancer is malignant\")\n",
    "\n",
    "else:\n",
    "    print(f\"The cancer is benign\")\n",
    "\n"
   ]
  }
 ],
 "metadata": {
  "kernelspec": {
   "display_name": "Python 3",
   "language": "python",
   "name": "python3"
  },
  "language_info": {
   "codemirror_mode": {
    "name": "ipython",
    "version": 3
   },
   "file_extension": ".py",
   "mimetype": "text/x-python",
   "name": "python",
   "nbconvert_exporter": "python",
   "pygments_lexer": "ipython3",
   "version": "3.10.7"
  },
  "orig_nbformat": 4
 },
 "nbformat": 4,
 "nbformat_minor": 2
}
